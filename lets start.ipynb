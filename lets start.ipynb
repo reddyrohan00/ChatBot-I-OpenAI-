{
 "cells": [
  {
   "cell_type": "code",
   "execution_count": null,
   "id": "b935cd8a",
   "metadata": {},
   "outputs": [],
   "source": [
    "import os\n",
    "from dotenv import load_dotenv\n",
    "load_dotenv(dotenv_path=\"C:/Users/admin/Desktop/Projects/Langchain/.env\")\n",
    "os.environ['OPENAI_API_KEY']=os.getenv(\"OPENAI_API_KEY\")\n",
    "os.environ[\"LANGCHAIN_API_KEY\"]=os.getenv(\"LANGCHAIN_API_KEY\")\n",
    "os.environ[\"LANGCHAIN_TRACING_V2\"]=\"true\"\n",
    "os.environ[\"LANGCHAIN_PROJECT\"]=os.getenv('LANGCHAIN_PROJECT')"
   ]
  },
  {
   "cell_type": "code",
   "execution_count": 8,
   "id": "51914e16",
   "metadata": {},
   "outputs": [
    {
     "name": "stdout",
     "output_type": "stream",
     "text": [
      "client=<openai.resources.chat.completions.completions.Completions object at 0x0000025EC3DD0310> async_client=<openai.resources.chat.completions.completions.AsyncCompletions object at 0x0000025EC3DD0AC0> root_client=<openai.OpenAI object at 0x0000025EC3DD26E0> root_async_client=<openai.AsyncOpenAI object at 0x0000025EC3DD0DC0> model_name='gpt-4o' model_kwargs={} openai_api_key=SecretStr('**********')\n"
     ]
    }
   ],
   "source": [
    "from langchain_openai import ChatOpenAI\n",
    "llm=ChatOpenAI(model='gpt-4o')\n",
    "print(llm)"
   ]
  },
  {
   "cell_type": "code",
   "execution_count": 9,
   "id": "58322765",
   "metadata": {},
   "outputs": [
    {
     "data": {
      "text/plain": [
       "AIMessage(content='\"Gen AI\" typically refers to \"Generative AI,\" a type of artificial intelligence focused on creating new content. This can include generating text, images, music, and other forms of media. Generative AI models, like GPT-3 and its successors, are trained on large datasets and use complex algorithms to produce outputs that mimic human creativity. These models can perform tasks such as writing essays, creating artwork, composing music, and even developing software code.\\n\\nGenerative AI is widely used across various industries for applications like content creation, design, virtual reality, and more. It holds the potential to revolutionize how content is produced and consumed, offering new ways to augment human creativity and efficiency.', additional_kwargs={'refusal': None}, response_metadata={'token_usage': {'completion_tokens': 138, 'prompt_tokens': 11, 'total_tokens': 149, 'completion_tokens_details': {'accepted_prediction_tokens': 0, 'audio_tokens': 0, 'reasoning_tokens': 0, 'rejected_prediction_tokens': 0}, 'prompt_tokens_details': {'audio_tokens': 0, 'cached_tokens': 0}}, 'model_name': 'gpt-4o-2024-08-06', 'system_fingerprint': 'fp_07871e2ad8', 'id': 'chatcmpl-BkmyuUn0hAO6KrUILqxHLmDZyaRs6', 'service_tier': 'default', 'finish_reason': 'stop', 'logprobs': None}, id='run--75232831-a6b1-44a2-8605-92ece093a2c0-0', usage_metadata={'input_tokens': 11, 'output_tokens': 138, 'total_tokens': 149, 'input_token_details': {'audio': 0, 'cache_read': 0}, 'output_token_details': {'audio': 0, 'reasoning': 0}})"
      ]
     },
     "execution_count": 9,
     "metadata": {},
     "output_type": "execute_result"
    }
   ],
   "source": [
    "llm.invoke(\"what is gen ai\")"
   ]
  },
  {
   "cell_type": "code",
   "execution_count": 14,
   "id": "a5e3a21a",
   "metadata": {},
   "outputs": [
    {
     "data": {
      "text/plain": [
       "ChatPromptTemplate(input_variables=['input'], input_types={}, partial_variables={}, messages=[SystemMessagePromptTemplate(prompt=PromptTemplate(input_variables=[], input_types={}, partial_variables={}, template='You are answerABLE to me'), additional_kwargs={}), HumanMessagePromptTemplate(prompt=PromptTemplate(input_variables=['input'], input_types={}, partial_variables={}, template='{input}'), additional_kwargs={})])"
      ]
     },
     "execution_count": 14,
     "metadata": {},
     "output_type": "execute_result"
    }
   ],
   "source": [
    "from langchain_core.prompts import ChatPromptTemplate\n",
    "prompt=ChatPromptTemplate.from_messages(\n",
    "    [\n",
    "        (\"system\",\"You are answerABLE to me\"),\n",
    "        (\"user\",\"{input}\")\n",
    "    ]\n",
    ")\n",
    "prompt"
   ]
  },
  {
   "cell_type": "markdown",
   "id": "531e3149",
   "metadata": {},
   "source": [
    "###"
   ]
  },
  {
   "cell_type": "markdown",
   "id": "4b4c318b",
   "metadata": {},
   "source": [
    "### USE THIS PROMPT WITH LLM\n"
   ]
  },
  {
   "cell_type": "code",
   "execution_count": 15,
   "id": "16c7b55d",
   "metadata": {},
   "outputs": [
    {
     "name": "stdout",
     "output_type": "stream",
     "text": [
      "content=\"Certainly! LangSmith is a platform offered by LangChain that enhances the development, testing, and evaluation of applications powered by language models. It empowers developers with robust tools to construct data-driven applications by integrating elements such as retrieval-augmented generation (RAG) and agent-based architectures. Here are some of its key components and features:\\n\\n1. **Tracing**: LangSmith provides capabilities to trace requests, which is invaluable for debugging and understanding the behavior of your applications. This feature allows developers to monitor the flow of data and interactions within their application in real-time.\\n\\n2. **Feedback Mechanisms**: Collecting and leveraging feedback is crucial for improving language model applications. LangSmith enables the integration of feedback loops so the models can be fine-tuned and optimized based on user interactions and outcomes.\\n\\n3. **Evaluation**: LangSmith focuses on enabling the evaluation of language models' performance within applications. This includes assessing various metrics and parameters to ensure the models meet desired performance standards.\\n\\n4. **Experimentation**: The platform assists in conducting experiments with different model configurations and setups. This functionality is designed to help developers identify the most effective configurations for their specific use cases.\\n\\n5. **Integration with LangChain**: As part of LangChain, LangSmith seamlessly integrates with LangChain's extensive suite of tools and libraries, which are specifically tailored for building sophisticated applications using language models.\\n\\nOverall, LangSmith serves as an environment where developers can not only build but also iteratively improve language model applications through systematic testing, evaluation, and feedback incorporation.\" additional_kwargs={'refusal': None} response_metadata={'token_usage': {'completion_tokens': 308, 'prompt_tokens': 24, 'total_tokens': 332, 'completion_tokens_details': {'accepted_prediction_tokens': 0, 'audio_tokens': 0, 'reasoning_tokens': 0, 'rejected_prediction_tokens': 0}, 'prompt_tokens_details': {'audio_tokens': 0, 'cached_tokens': 0}}, 'model_name': 'gpt-4o-2024-08-06', 'system_fingerprint': 'fp_07871e2ad8', 'id': 'chatcmpl-BknBqqbYUfxnnX1jp4XLnKOkWAg6T', 'service_tier': 'default', 'finish_reason': 'stop', 'logprobs': None} id='run--a394ad50-0657-4df3-ae45-2b944f5af105-0' usage_metadata={'input_tokens': 24, 'output_tokens': 308, 'total_tokens': 332, 'input_token_details': {'audio': 0, 'cache_read': 0}, 'output_token_details': {'audio': 0, 'reasoning': 0}}\n"
     ]
    }
   ],
   "source": [
    "chain=prompt|llm\n",
    "response=chain.invoke({\"input\":\"Can you tell me about langsmith\"})\n",
    "print(response)"
   ]
  },
  {
   "cell_type": "code",
   "execution_count": 17,
   "id": "09111c31",
   "metadata": {},
   "outputs": [],
   "source": [
    "from langchain_core.output_parsers import StrOutputParser\n",
    "output_parser=StrOutputParser()\n",
    "chain=prompt|llm|output_parser"
   ]
  },
  {
   "cell_type": "code",
   "execution_count": 18,
   "id": "5c8caab5",
   "metadata": {},
   "outputs": [
    {
     "name": "stdout",
     "output_type": "stream",
     "text": [
      "Deciding whether pursuing a Master of Science (MS) degree in the United States is worth it depends on several factors, including your career goals, field of study, financial situation, and personal circumstances. Here are some considerations to help you determine the value of an MS in the US:\n",
      "\n",
      "1. **Career Advancement**: An MS can open doors to advanced positions in many fields, particularly in science, engineering, technology, and data-related industries. It can also provide a competitive edge in the job market.\n",
      "\n",
      "2. **Earning Potential**: Generally, individuals with master's degrees tend to earn higher salaries compared to those with only a bachelor's degree. However, the actual return on investment can vary significantly depending on the discipline.\n",
      "\n",
      "3. **Field of Study**: Some fields, such as computer science, engineering, and healthcare, tend to have higher demand for advanced degrees, whereas others might not require a graduate degree for career progression.\n",
      "\n",
      "4. **University Reputation**: The value of an MS can be influenced by the reputation of the university you attend. Graduating from a well-regarded institution can enhance your resume and networking opportunities.\n",
      "\n",
      "5. **Networking Opportunities**: Studying in the US can provide valuable networking opportunities with professionals, academics, and peers, which can be beneficial for your career.\n",
      "\n",
      "6. **Cultural Experience**: Studying abroad offers a chance to experience a different culture, which can be enriching both personally and professionally.\n",
      "\n",
      "7. **Financial Considerations**: The cost of education in the US can be high, including tuition, fees, and living expenses. Consider scholarships, assistantships, and the potential debt you might incur, and weigh them against your expected increase in earning potential.\n",
      "\n",
      "8. **Immigration Considerations**: If you are an international student, consider the visa policies and the long-term implications of studying and working in the US, such as the process for obtaining work authorization (e.g., OPT, H-1B visas).\n",
      "\n",
      "9. **Current Job Market**: Assess the current job market for your field in the US and globally. Economic conditions, industry demand, and technological advancements can influence the availability of jobs.\n",
      "\n",
      "It's important to research thoroughly and consider your individual circumstances. Talking to alumni, career advisors, and professionals in your field can also provide valuable insight.\n"
     ]
    }
   ],
   "source": [
    "response=chain.invoke({\"input\":\"MS in US is it worth currently\"})\n",
    "print(response)"
   ]
  },
  {
   "cell_type": "code",
   "execution_count": null,
   "id": "da977482",
   "metadata": {},
   "outputs": [],
   "source": []
  }
 ],
 "metadata": {
  "kernelspec": {
   "display_name": "Python 3",
   "language": "python",
   "name": "python3"
  },
  "language_info": {
   "codemirror_mode": {
    "name": "ipython",
    "version": 3
   },
   "file_extension": ".py",
   "mimetype": "text/x-python",
   "name": "python",
   "nbconvert_exporter": "python",
   "pygments_lexer": "ipython3",
   "version": "3.10.0"
  }
 },
 "nbformat": 4,
 "nbformat_minor": 5
}
